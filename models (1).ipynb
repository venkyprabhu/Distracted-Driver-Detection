{
 "cells": [
  {
   "cell_type": "code",
   "execution_count": 1,
   "metadata": {},
   "outputs": [],
   "source": [
    "import cv2\n",
    "import os\n",
    "import numpy as np\n",
    "import pandas as pd\n",
    "import matplotlib.pyplot as plt\n",
    "%matplotlib inline"
   ]
  },
  {
   "cell_type": "markdown",
   "metadata": {},
   "source": [
    "## Reading, Resizing and Normalizing the Filtered Images"
   ]
  },
  {
   "cell_type": "code",
   "execution_count": 23,
   "metadata": {},
   "outputs": [],
   "source": [
    "images = []\n",
    "labels = []\n",
    "count = 1\n",
    "for i in range(10):\n",
    "    for filename in os.listdir('filtered_imgs/c'+str(i)):\n",
    "            \n",
    "            img = cv2.imread(str('filtered_imgs/c'+str(i)+'/'+filename))\n",
    "            count = count +1\n",
    "            labels.append(i)\n",
    "            img = cv2.resize(img, (100,100))/255\n",
    "            #print(img.shape)\n",
    "            images.append(img)"
   ]
  },
  {
   "cell_type": "code",
   "execution_count": 24,
   "metadata": {},
   "outputs": [
    {
     "data": {
      "text/plain": [
       "22424"
      ]
     },
     "execution_count": 24,
     "metadata": {},
     "output_type": "execute_result"
    }
   ],
   "source": [
    "len(images)"
   ]
  },
  {
   "cell_type": "code",
   "execution_count": 25,
   "metadata": {},
   "outputs": [],
   "source": [
    "images = np.asarray(images)"
   ]
  },
  {
   "cell_type": "code",
   "execution_count": 26,
   "metadata": {},
   "outputs": [
    {
     "data": {
      "text/plain": [
       "(22424, 100, 100, 3)"
      ]
     },
     "execution_count": 26,
     "metadata": {},
     "output_type": "execute_result"
    }
   ],
   "source": [
    "images.shape"
   ]
  },
  {
   "cell_type": "code",
   "execution_count": 27,
   "metadata": {},
   "outputs": [
    {
     "data": {
      "text/plain": [
       "<matplotlib.image.AxesImage at 0x1f1eeb06cf8>"
      ]
     },
     "execution_count": 27,
     "metadata": {},
     "output_type": "execute_result"
    },
    {
     "data": {
      "image/png": "[encoded data removed]",
      "text/plain": [
       "<Figure size 432x288 with 1 Axes>"
      ]
     },
     "metadata": {
      "needs_background": "light"
     },
     "output_type": "display_data"
    }
   ],
   "source": [
    "plt.imshow(images[0])"
   ]
  },
  {
   "cell_type": "markdown",
   "metadata": {},
   "source": [
    "## Feature Extraction Using VGG16\n",
    "Feature extraction is related to dimensionality reduction. When the input data is too large to be processed and is suspected to be reduntant (eg. repetitiveness of images presented as pixels) then it can be transformed into a reduced set of features (called feature vector)"
   ]
  },
  {
   "cell_type": "markdown",
   "metadata": {},
   "source": [
    "Feature extraction actually transforms the attributes, the transformed attributes are linear combination of original attributes. "
   ]
  },
  {
   "cell_type": "code",
   "execution_count": 32,
   "metadata": {},
   "outputs": [],
   "source": [
    "import keras\n",
    "from keras.models import Model \n",
    "from keras.layers import Dense,Conv2D,Dropout, Flatten\n"
   ]
  },
  {
   "cell_type": "code",
   "execution_count": 33,
   "metadata": {},
   "outputs": [],
   "source": [
    "#load the VGG model and then we load the model architecture and imagenet weights\n",
    "base = keras.applications.vgg16.VGG16(include_top=False,input_shape=(100,100,3),weights='imagenet')\n",
    "#include_top: whether to include 3 fully connected layers at the top of the network\n",
    "#input_shape is specified only when include_top is false\n",
    "\n",
    "output = base.output\n",
    "\n",
    "output = Flatten()(output)\n",
    "\n",
    "model = Model(base.input, output)\n",
    "for layer in base.layers:\n",
    "    layer.trainable = False"
   ]
  },
  {
   "cell_type": "code",
   "execution_count": 34,
   "metadata": {},
   "outputs": [],
   "source": [
    "feature_map = model.predict(images)"
   ]
  },
  {
   "cell_type": "code",
   "execution_count": 35,
   "metadata": {},
   "outputs": [
    {
     "data": {
      "text/plain": [
       "(22424, 4608)"
      ]
     },
     "execution_count": 35,
     "metadata": {},
     "output_type": "execute_result"
    }
   ],
   "source": [
    "feature_map.shape"
   ]
  },
  {
   "cell_type": "markdown",
   "metadata": {},
   "source": [
    "## Modelling "
   ]
  },
  {
   "cell_type": "code",
   "execution_count": 39,
   "metadata": {},
   "outputs": [],
   "source": [
    "from sklearn.model_selection import train_test_split\n",
    "train_data, test_data, train_tar, test_tar = train_test_split(feature_map,labels,test_size=0.2,shuffle=True)"
   ]
  },
  {
   "cell_type": "markdown",
   "metadata": {},
   "source": [
    "### K Nearest Neighbors"
   ]
  },
  {
   "cell_type": "code",
   "execution_count": 40,
   "metadata": {},
   "outputs": [
    {
     "data": {
      "text/plain": [
       "KNeighborsClassifier(algorithm='auto', leaf_size=30, metric='minkowski',\n",
       "           metric_params=None, n_jobs=1, n_neighbors=5, p=2,\n",
       "           weights='uniform')"
      ]
     },
     "execution_count": 40,
     "metadata": {},
     "output_type": "execute_result"
    }
   ],
   "source": [
    "from sklearn.neighbors import KNeighborsClassifier as KNN\n",
    "knn = KNN(n_neighbors=5)\n",
    "knn.fit(train_data,train_tar)"
   ]
  },
  {
   "cell_type": "code",
   "execution_count": 41,
   "metadata": {},
   "outputs": [
    {
     "data": {
      "text/plain": [
       "0.9551839464882943"
      ]
     },
     "execution_count": 41,
     "metadata": {},
     "output_type": "execute_result"
    }
   ],
   "source": [
    "knn.score(test_data,test_tar)"
   ]
  },
  {
   "cell_type": "code",
   "execution_count": 43,
   "metadata": {},
   "outputs": [],
   "source": [
    "y_pred = knn.predict(test_data)"
   ]
  },
  {
   "cell_type": "code",
   "execution_count": 44,
   "metadata": {},
   "outputs": [
    {
     "name": "stdout",
     "output_type": "stream",
     "text": [
      "                              precision    recall  f1-score   support\n",
      "\n",
      "                safe driving       0.93      0.97      0.95       463\n",
      "               texting-right       0.96      0.99      0.97       433\n",
      "talking on the phone - right       0.95      0.98      0.97       449\n",
      "              texting - left       0.95      0.92      0.94       491\n",
      " talking on the phone - left       0.90      0.96      0.93       436\n",
      "         operating the radio       0.99      0.98      0.99       472\n",
      "                    drinking       0.94      0.97      0.96       488\n",
      "             reaching behind       0.98      0.98      0.98       401\n",
      "             hair and makeup       0.97      0.84      0.90       403\n",
      "        talking to passenger       0.98      0.95      0.96       449\n",
      "\n",
      "                 avg / total       0.96      0.96      0.95      4485\n",
      "\n"
     ]
    }
   ],
   "source": [
    "#classification report\n",
    "from sklearn.metrics import confusion_matrix,classification_report\n",
    "y_true = test_tar\n",
    "class_names = ['safe driving','texting-right','talking on the phone - right','texting - left','talking on the phone - left','operating the radio','drinking','reaching behind',\n",
    "              'hair and makeup','talking to passenger']\n",
    "print(classification_report(y_true,y_pred,target_names=class_names))"
   ]
  },
  {
   "cell_type": "markdown",
   "metadata": {},
   "source": [
    "### Support Vector Machine"
   ]
  },
  {
   "cell_type": "code",
   "execution_count": 45,
   "metadata": {},
   "outputs": [
    {
     "name": "stdout",
     "output_type": "stream",
     "text": [
      "0.39420289855072466\n",
      "0.7705685618729097\n",
      "0.9103678929765886\n",
      "0.9351170568561873\n"
     ]
    }
   ],
   "source": [
    "from sklearn.svm import SVC\n",
    "svc_classifiers = []\n",
    "C_vals = [0.1,1.0,5,10]\n",
    "for c in C_vals:\n",
    "    clf1 = SVC(C=c)\n",
    "    clf1.fit(train_data,train_tar)\n",
    "    print(clf1.score(test_data,test_tar))\n",
    "    svc_classifiers.append(clf1)"
   ]
  },
  {
   "cell_type": "code",
   "execution_count": 46,
   "metadata": {},
   "outputs": [],
   "source": [
    "y_pred = clf1.predict(test_data)"
   ]
  },
  {
   "cell_type": "code",
   "execution_count": 47,
   "metadata": {},
   "outputs": [
    {
     "name": "stdout",
     "output_type": "stream",
     "text": [
      "                              precision    recall  f1-score   support\n",
      "\n",
      "                safe driving       0.87      0.94      0.91       463\n",
      "               texting-right       0.95      0.98      0.97       433\n",
      "talking on the phone - right       0.95      0.96      0.96       449\n",
      "              texting - left       0.94      0.92      0.93       491\n",
      " talking on the phone - left       0.89      0.92      0.90       436\n",
      "         operating the radio       0.99      0.97      0.98       472\n",
      "                    drinking       0.94      0.94      0.94       488\n",
      "             reaching behind       0.96      0.97      0.96       401\n",
      "             hair and makeup       0.92      0.83      0.87       403\n",
      "        talking to passenger       0.94      0.92      0.93       449\n",
      "\n",
      "                 avg / total       0.94      0.94      0.93      4485\n",
      "\n"
     ]
    }
   ],
   "source": [
    "#classification report \n",
    "from sklearn.metrics import confusion_matrix,classification_report\n",
    "y_true = test_tar\n",
    "class_names = ['safe driving','texting-right','talking on the phone - right','texting - left','talking on the phone - left','operating the radio','drinking','reaching behind',\n",
    "              'hair and makeup','talking to passenger']\n",
    "print(classification_report(y_true,y_pred,target_names=class_names))"
   ]
  },
  {
   "cell_type": "markdown",
   "metadata": {},
   "source": [
    "### CNN-A"
   ]
  },
  {
   "cell_type": "code",
   "execution_count": 52,
   "metadata": {},
   "outputs": [],
   "source": [
    "train_data, test_data, train_tar, test_tar = train_test_split(images,labels,test_size=0.2,shuffle=True)"
   ]
  },
  {
   "cell_type": "code",
   "execution_count": 53,
   "metadata": {},
   "outputs": [],
   "source": [
    "from keras.models import Model\n",
    "from keras.layers import Dense,Conv2D, Dropout, Flatten\n",
    "\n",
    "model_cnn = keras.models.Sequential()\n",
    "\n",
    "model_cnn.add(Conv2D(256,3,input_shape= (100,100,3),activation='relu'))\n",
    "model_cnn.add(keras.layers.MaxPooling2D(3))\n",
    "model_cnn.add(Dropout(0.3))\n",
    "\n",
    "model_cnn.add(Conv2D(128,7,activation='relu'))\n",
    "model_cnn.add(keras.layers.MaxPooling2D(3))\n",
    "model_cnn.add(Dropout(0.3))\n",
    "\n",
    "model_cnn.add(Conv2D(64,5,input_shape= (100,100,3),activation='relu'))\n",
    "model_cnn.add(keras.layers.MaxPooling2D(3))\n",
    "model_cnn.add(Dropout(0.3))\n",
    "\n",
    "model_cnn.add(Flatten())\n",
    "\n",
    "model_cnn.add(Dense(200,activation='relu'))\n",
    "model_cnn.add(Dropout(0.2))\n",
    "model_cnn.add(Dense(10,activation='softmax'))"
   ]
  },
  {
   "cell_type": "code",
   "execution_count": 54,
   "metadata": {},
   "outputs": [],
   "source": [
    "model_cnn.compile(optimizer = 'adam', loss= 'sparse_categorical_crossentropy',metrics= ['accuracy'])\n"
   ]
  },
  {
   "cell_type": "code",
   "execution_count": 55,
   "metadata": {
    "scrolled": true
   },
   "outputs": [
    {
     "name": "stdout",
     "output_type": "stream",
     "text": [
      "Train on 16145 samples, validate on 1794 samples\n",
      "Epoch 1/10\n",
      "16145/16145 [==============================] - 1859s 115ms/step - loss: 1.4086 - acc: 0.4954 - val_loss: 0.5529 - val_acc: 0.8255\n",
      "Epoch 2/10\n",
      "16145/16145 [==============================] - 1844s 114ms/step - loss: 0.6426 - acc: 0.7854 - val_loss: 0.3182 - val_acc: 0.9052\n",
      "Epoch 3/10\n",
      "16145/16145 [==============================] - 1825s 113ms/step - loss: 0.4750 - acc: 0.8416 - val_loss: 0.2200 - val_acc: 0.9309\n",
      "Epoch 4/10\n",
      "16145/16145 [==============================] - 1882s 117ms/step - loss: 0.3796 - acc: 0.8783 - val_loss: 0.2018 - val_acc: 0.9381\n",
      "Epoch 5/10\n",
      "16145/16145 [==============================] - 2197s 136ms/step - loss: 0.3255 - acc: 0.8940 - val_loss: 0.1585 - val_acc: 0.9493\n",
      "Epoch 6/10\n",
      "16145/16145 [==============================] - 9349s 579ms/step - loss: 0.2863 - acc: 0.9067 - val_loss: 0.1639 - val_acc: 0.9543\n",
      "Epoch 7/10\n",
      "16145/16145 [==============================] - 2094s 130ms/step - loss: 0.2675 - acc: 0.9133 - val_loss: 0.1202 - val_acc: 0.9638\n",
      "Epoch 8/10\n",
      "16145/16145 [==============================] - 2079s 129ms/step - loss: 0.2382 - acc: 0.9244 - val_loss: 0.1100 - val_acc: 0.9682\n",
      "Epoch 9/10\n",
      "16145/16145 [==============================] - 1928s 119ms/step - loss: 0.2178 - acc: 0.9322 - val_loss: 0.1083 - val_acc: 0.9710\n",
      "Epoch 10/10\n",
      "16145/16145 [==============================] - 1828s 113ms/step - loss: 0.2024 - acc: 0.9353 - val_loss: 0.1078 - val_acc: 0.9693\n"
     ]
    }
   ],
   "source": [
    "history = model_cnn.fit(train_data,train_tar,epochs=10,validation_split=0.1,batch_size=32)"
   ]
  },
  {
   "cell_type": "code",
   "execution_count": null,
   "metadata": {},
   "outputs": [],
   "source": []
  }
 ],
 "metadata": {
  "kernelspec": {
   "display_name": "Python 3",
   "language": "python",
   "name": "python3"
  },
  "language_info": {
   "codemirror_mode": {
    "name": "ipython",
    "version": 3
   },
   "file_extension": ".py",
   "mimetype": "text/x-python",
   "name": "python",
   "nbconvert_exporter": "python",
   "pygments_lexer": "ipython3",
   "version": "3.7.1"
  }
 },
 "nbformat": 4,
 "nbformat_minor": 2
}
